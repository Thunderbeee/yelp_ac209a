{
 "cells": [
  {
   "cell_type": "code",
   "execution_count": 31,
   "metadata": {},
   "outputs": [],
   "source": [
    "import os\n",
    "import json\n",
    "import pandas as pd\n",
    "import matplotlib.pyplot as plt\n",
    "from pathlib import Path\n",
    "import seaborn as sns\n",
    "\n",
    "root_dir = Path(\"yelp_dataset\") # Change w.r.t your own directory"
   ]
  },
  {
   "cell_type": "markdown",
   "metadata": {},
   "source": [
    "### Data Description of Yelp Business Dataset \n",
    "\n",
    "#### Data Loading  \n",
    "\n",
    "We download the data from [the official webset](https://www.yelp.com/dataset/download) through simple verification.\n",
    "\n",
    "The original file is in JSON format. While loading data, we tried using the built-in pandas `read_json` method, but failed in the first place. Eventually we ended up reading the JSON file line by line and constructing the DataFrame from scratch. "
   ]
  },
  {
   "cell_type": "markdown",
   "metadata": {},
   "source": [
    "#### Data Description \n",
    "An official documentation is given by Yelp on [https://www.yelp.com/dataset/documentation/main](https://www.yelp.com/dataset/documentation/main)\n",
    "\n",
    "The yelp dataset consists of five tables (and also one for photo data, though we're not gonna use it) in total, namely `business`, `review`,\n",
    "`user`, `checkin`, `tip`. We start with looking into the `business` table, which describes attributes of merchants.\n",
    "\n",
    "The raw DataFrame contains 14 columns, specifying: \n",
    "1. `business_id`: The unique ID of the business. Type: string\n",
    "2. `name`: Name of the merchant. Type: string\n",
    "3. `address`: Exact address of the merchant. Type: string\n",
    "4. `city`: City where the merchant is located. Type: string\n",
    "5. `state`: State where the merchant is located. Type: string \n",
    "6. `postal_code`: Postal code of the merchant. Type: string\n",
    "7. `latitude`: Latitude of the location of merchant. Type: float64 \n",
    "8. `longitude`: Longitude of the location of merchant. Type: float64\n",
    "9. `stars`: Average rating of the merchant. Type: float64\n",
    "10. `review_count`: Number of reviews the merchant has received so far. Type: int \n",
    "11. `is_open`: If the merchant still exists. Type: int\n",
    "12. `attributes`: Attributes/ servies that the merchant provides. Type: dict\n",
    "13. `categories`: Labels of the merchant. Type: string (with categories separated by commas)\n",
    "14. `hours`: Opening hours of the merchant. Type: dict\n",
    "\n",
    "There are 150346 merchants in total."
   ]
  },
  {
   "cell_type": "code",
   "execution_count": 12,
   "metadata": {},
   "outputs": [
    {
     "data": {
      "text/plain": [
       "((150346, 14),\n",
       " business_id      object\n",
       " name             object\n",
       " address          object\n",
       " city             object\n",
       " state            object\n",
       " postal_code      object\n",
       " latitude        float64\n",
       " longitude       float64\n",
       " stars           float64\n",
       " review_count      int64\n",
       " is_open           int64\n",
       " attributes       object\n",
       " categories       object\n",
       " hours            object\n",
       " dtype: object)"
      ]
     },
     "execution_count": 12,
     "metadata": {},
     "output_type": "execute_result"
    }
   ],
   "source": [
    "business_json = root_dir / \"yelp_academic_dataset_business.json\" # Change dataset name if necessary\n",
    "data_file = open(business_json)\n",
    "\n",
    "data = []\n",
    "for line in data_file:\n",
    "    data.append(json.loads(line))\n",
    "checkin_df = pd.DataFrame(data)\n",
    "data_file.close()\n",
    "\n",
    "checkin_df.shape, checkin_df.dtypes"
   ]
  },
  {
   "cell_type": "code",
   "execution_count": 11,
   "metadata": {},
   "outputs": [
    {
     "data": {
      "text/html": [
       "<div>\n",
       "<style scoped>\n",
       "    .dataframe tbody tr th:only-of-type {\n",
       "        vertical-align: middle;\n",
       "    }\n",
       "\n",
       "    .dataframe tbody tr th {\n",
       "        vertical-align: top;\n",
       "    }\n",
       "\n",
       "    .dataframe thead th {\n",
       "        text-align: right;\n",
       "    }\n",
       "</style>\n",
       "<table border=\"1\" class=\"dataframe\">\n",
       "  <thead>\n",
       "    <tr style=\"text-align: right;\">\n",
       "      <th></th>\n",
       "      <th>business_id</th>\n",
       "      <th>name</th>\n",
       "      <th>address</th>\n",
       "      <th>city</th>\n",
       "      <th>state</th>\n",
       "      <th>postal_code</th>\n",
       "      <th>latitude</th>\n",
       "      <th>longitude</th>\n",
       "      <th>stars</th>\n",
       "      <th>review_count</th>\n",
       "      <th>is_open</th>\n",
       "      <th>attributes</th>\n",
       "      <th>categories</th>\n",
       "      <th>hours</th>\n",
       "    </tr>\n",
       "  </thead>\n",
       "  <tbody>\n",
       "    <tr>\n",
       "      <th>0</th>\n",
       "      <td>Pns2l4eNsfO8kk83dixA6A</td>\n",
       "      <td>Abby Rappoport, LAC, CMQ</td>\n",
       "      <td>1616 Chapala St, Ste 2</td>\n",
       "      <td>Santa Barbara</td>\n",
       "      <td>CA</td>\n",
       "      <td>93101</td>\n",
       "      <td>34.426679</td>\n",
       "      <td>-119.711197</td>\n",
       "      <td>5.0</td>\n",
       "      <td>7</td>\n",
       "      <td>0</td>\n",
       "      <td>{'ByAppointmentOnly': 'True'}</td>\n",
       "      <td>Doctors, Traditional Chinese Medicine, Naturop...</td>\n",
       "      <td>None</td>\n",
       "    </tr>\n",
       "    <tr>\n",
       "      <th>1</th>\n",
       "      <td>mpf3x-BjTdTEA3yCZrAYPw</td>\n",
       "      <td>The UPS Store</td>\n",
       "      <td>87 Grasso Plaza Shopping Center</td>\n",
       "      <td>Affton</td>\n",
       "      <td>MO</td>\n",
       "      <td>63123</td>\n",
       "      <td>38.551126</td>\n",
       "      <td>-90.335695</td>\n",
       "      <td>3.0</td>\n",
       "      <td>15</td>\n",
       "      <td>1</td>\n",
       "      <td>{'BusinessAcceptsCreditCards': 'True'}</td>\n",
       "      <td>Shipping Centers, Local Services, Notaries, Ma...</td>\n",
       "      <td>{'Monday': '0:0-0:0', 'Tuesday': '8:0-18:30', ...</td>\n",
       "    </tr>\n",
       "    <tr>\n",
       "      <th>2</th>\n",
       "      <td>tUFrWirKiKi_TAnsVWINQQ</td>\n",
       "      <td>Target</td>\n",
       "      <td>5255 E Broadway Blvd</td>\n",
       "      <td>Tucson</td>\n",
       "      <td>AZ</td>\n",
       "      <td>85711</td>\n",
       "      <td>32.223236</td>\n",
       "      <td>-110.880452</td>\n",
       "      <td>3.5</td>\n",
       "      <td>22</td>\n",
       "      <td>0</td>\n",
       "      <td>{'BikeParking': 'True', 'BusinessAcceptsCredit...</td>\n",
       "      <td>Department Stores, Shopping, Fashion, Home &amp; G...</td>\n",
       "      <td>{'Monday': '8:0-22:0', 'Tuesday': '8:0-22:0', ...</td>\n",
       "    </tr>\n",
       "    <tr>\n",
       "      <th>3</th>\n",
       "      <td>MTSW4McQd7CbVtyjqoe9mw</td>\n",
       "      <td>St Honore Pastries</td>\n",
       "      <td>935 Race St</td>\n",
       "      <td>Philadelphia</td>\n",
       "      <td>PA</td>\n",
       "      <td>19107</td>\n",
       "      <td>39.955505</td>\n",
       "      <td>-75.155564</td>\n",
       "      <td>4.0</td>\n",
       "      <td>80</td>\n",
       "      <td>1</td>\n",
       "      <td>{'RestaurantsDelivery': 'False', 'OutdoorSeati...</td>\n",
       "      <td>Restaurants, Food, Bubble Tea, Coffee &amp; Tea, B...</td>\n",
       "      <td>{'Monday': '7:0-20:0', 'Tuesday': '7:0-20:0', ...</td>\n",
       "    </tr>\n",
       "    <tr>\n",
       "      <th>4</th>\n",
       "      <td>mWMc6_wTdE0EUBKIGXDVfA</td>\n",
       "      <td>Perkiomen Valley Brewery</td>\n",
       "      <td>101 Walnut St</td>\n",
       "      <td>Green Lane</td>\n",
       "      <td>PA</td>\n",
       "      <td>18054</td>\n",
       "      <td>40.338183</td>\n",
       "      <td>-75.471659</td>\n",
       "      <td>4.5</td>\n",
       "      <td>13</td>\n",
       "      <td>1</td>\n",
       "      <td>{'BusinessAcceptsCreditCards': 'True', 'Wheelc...</td>\n",
       "      <td>Brewpubs, Breweries, Food</td>\n",
       "      <td>{'Wednesday': '14:0-22:0', 'Thursday': '16:0-2...</td>\n",
       "    </tr>\n",
       "  </tbody>\n",
       "</table>\n",
       "</div>"
      ],
      "text/plain": [
       "              business_id                      name  \\\n",
       "0  Pns2l4eNsfO8kk83dixA6A  Abby Rappoport, LAC, CMQ   \n",
       "1  mpf3x-BjTdTEA3yCZrAYPw             The UPS Store   \n",
       "2  tUFrWirKiKi_TAnsVWINQQ                    Target   \n",
       "3  MTSW4McQd7CbVtyjqoe9mw        St Honore Pastries   \n",
       "4  mWMc6_wTdE0EUBKIGXDVfA  Perkiomen Valley Brewery   \n",
       "\n",
       "                           address           city state postal_code  \\\n",
       "0           1616 Chapala St, Ste 2  Santa Barbara    CA       93101   \n",
       "1  87 Grasso Plaza Shopping Center         Affton    MO       63123   \n",
       "2             5255 E Broadway Blvd         Tucson    AZ       85711   \n",
       "3                      935 Race St   Philadelphia    PA       19107   \n",
       "4                    101 Walnut St     Green Lane    PA       18054   \n",
       "\n",
       "    latitude   longitude  stars  review_count  is_open  \\\n",
       "0  34.426679 -119.711197    5.0             7        0   \n",
       "1  38.551126  -90.335695    3.0            15        1   \n",
       "2  32.223236 -110.880452    3.5            22        0   \n",
       "3  39.955505  -75.155564    4.0            80        1   \n",
       "4  40.338183  -75.471659    4.5            13        1   \n",
       "\n",
       "                                          attributes  \\\n",
       "0                      {'ByAppointmentOnly': 'True'}   \n",
       "1             {'BusinessAcceptsCreditCards': 'True'}   \n",
       "2  {'BikeParking': 'True', 'BusinessAcceptsCredit...   \n",
       "3  {'RestaurantsDelivery': 'False', 'OutdoorSeati...   \n",
       "4  {'BusinessAcceptsCreditCards': 'True', 'Wheelc...   \n",
       "\n",
       "                                          categories  \\\n",
       "0  Doctors, Traditional Chinese Medicine, Naturop...   \n",
       "1  Shipping Centers, Local Services, Notaries, Ma...   \n",
       "2  Department Stores, Shopping, Fashion, Home & G...   \n",
       "3  Restaurants, Food, Bubble Tea, Coffee & Tea, B...   \n",
       "4                          Brewpubs, Breweries, Food   \n",
       "\n",
       "                                               hours  \n",
       "0                                               None  \n",
       "1  {'Monday': '0:0-0:0', 'Tuesday': '8:0-18:30', ...  \n",
       "2  {'Monday': '8:0-22:0', 'Tuesday': '8:0-22:0', ...  \n",
       "3  {'Monday': '7:0-20:0', 'Tuesday': '7:0-20:0', ...  \n",
       "4  {'Wednesday': '14:0-22:0', 'Thursday': '16:0-2...  "
      ]
     },
     "execution_count": 11,
     "metadata": {},
     "output_type": "execute_result"
    }
   ],
   "source": [
    "checkin_df.head()"
   ]
  },
  {
   "cell_type": "markdown",
   "metadata": {},
   "source": [
    "#### Data Manipulation\n",
    "\n",
    "The first thing we notice is how to break down and make use of the object-type columns (`attributes` and `categories`), since they are descriptive features that reflect how comfortable the dining experience is, and how good the merchant might be. We first check the possible values of the attributes and categories, and we found that there are **1311** possible categories and **39** possible attributes in total. Besides, a merchant tends to have more than one category type and one or more attributes. Thus, how to encode those data becomes an interesting topic."
   ]
  },
  {
   "cell_type": "code",
   "execution_count": null,
   "metadata": {},
   "outputs": [],
   "source": [
    "# dive into `attributes` and `categories` of the merchants\n",
    "cat_set = set()\n",
    "attr_set = set()\n",
    "for i, row in checkin_df.iterrows():\n",
    "    cat = row['categories']\n",
    "    attr = row['attributes']\n",
    "    if cat:\n",
    "        for c in cat.split(', '):\n",
    "            cat_set.add(c)\n",
    "    \n",
    "    if attr:\n",
    "        for k in attr.keys():\n",
    "            attr_set.add(k)"
   ]
  },
  {
   "cell_type": "code",
   "execution_count": 25,
   "metadata": {},
   "outputs": [
    {
     "name": "stdout",
     "output_type": "stream",
     "text": [
      "Possible category:  1311\n",
      "Possible attribute:  39\n"
     ]
    }
   ],
   "source": [
    "print(\"Possible category: \", len(cat_set))\n",
    "print(\"Possible attribute: \", len(attr_set))"
   ]
  },
  {
   "cell_type": "markdown",
   "metadata": {},
   "source": [
    "# Checking potential imbalance\n",
    "\n",
    "Another thing is, is the stars of the merchants really imbalanced? Judging from the histogram, we can see that "
   ]
  },
  {
   "cell_type": "code",
   "execution_count": 34,
   "metadata": {},
   "outputs": [
    {
     "name": "stderr",
     "output_type": "stream",
     "text": [
      "/Users/a12345/anaconda3/envs/cs109a/lib/python3.11/site-packages/seaborn/_oldcore.py:1498: FutureWarning: is_categorical_dtype is deprecated and will be removed in a future version. Use isinstance(dtype, CategoricalDtype) instead\n",
      "  if pd.api.types.is_categorical_dtype(vector):\n",
      "/Users/a12345/anaconda3/envs/cs109a/lib/python3.11/site-packages/seaborn/_oldcore.py:1119: FutureWarning: use_inf_as_na option is deprecated and will be removed in a future version. Convert inf values to NaN before operating instead.\n",
      "  with pd.option_context('mode.use_inf_as_na', True):\n"
     ]
    },
    {
     "data": {
      "image/png": "[encoded data removed]",
      "text/plain": [
       "<Figure size 640x480 with 1 Axes>"
      ]
     },
     "metadata": {},
     "output_type": "display_data"
    }
   ],
   "source": [
    "sns.histplot(data=checkin_df, x='stars').set_title('Stars distribution')"
   ]
  },
  {
   "cell_type": "markdown",
   "metadata": {},
   "source": [
    "\n",
    "\n",
    "#### Data Processing  \n",
    "**1. Preliminary Missing Value Handling**  \n",
    "By inspecting the dataset, we find that the following columns have missing values: \n",
    "\n",
    "| attributes | categories | hours    |\n",
    "| :--------:   | :-------:    | :--------: |\n",
    "| 13744      | 103        | 23223    |\n",
    "\n",
    "`categories` is crutial for grouping merchants by their functionality, and there is no way we can interprete or evaluate out final result without knowing the purpose of the merchant. Furthermore, the number of missing values (103) is minimal compared to the whole dataset (> 150,000). Therefore, we will remove all merchants that are missing the `categories` labels.  \n",
    "The number of missing values in the other two columns is not negligible. How we handle NULL `attribute` and `hours` will be stated later in the document.\n",
    "\n",
    "**2. More In-depth Data Manipulation**  \n",
    "The raw type of `attribute` column is a recursive dictionary. We decide to expand it into a group of one-hot vectors.  \n",
    "We will first determine a comprehensive list of attributes by looping into each entry.We set up another dictionary (called `attribute_dict`) to keep track of the process by taking attribute names as keys and record all possible values.   \n",
    "After constructing the dictionary, we would like to look at the possible values of each attribute. For those that only have \"True/False\", \"yes/no\" indicators, we will construct a new attribute column with only 0's and 1's (e.g.: 'BusinessAcceptsCreditCards', 'ByAppointmentOnly'). For those that have multiple levels or types, we will decide on a case-by-case manner (e.g.: for attributes that have internal ordering like 'NoiseLevel', we will provide an ordering scheme [0, 1, 2, 3]; for attributes that are not ordered like \"Alcohol\", we will separted each value as a one-hot vector.)\n",
    "\n",
    "The raw type of `categories` column is a string separating category names with commas. We first create a list of categories for every merchant, and merge them together for a comprehensive list. \n",
    "One way to proceed is to creat a one-hot vector for each category. However, we noticed that there are more than 1,300 categories in total. Since we are not interested in all types of merchants, we may just select a subset of categories, and exclude all merchants that do not belong to these labels. \n",
    "\n",
    "Finally, the `hours` column is stored as a length-7 dictionary with days of the week as keys and a string representing operating hours as columns.  \n",
    "We would like to first create 14 new columns storing the opening and closing time for each day of the week. We can add another column indicating if the merchant is missing the `hours` entry. \n",
    "\n",
    "**3. Further Missing Value Handling**  \n",
    "After tidying and expanding data features, we go back to the `attribute` and `hours` column to handle their missing values. \n",
    "\n",
    "For NULL attributes, we can simply fill in all attribute-related columns with the \"majority vote\" (i.e., the mode of that column). \n",
    "\n",
    "For NULL hours, we can fill in the hour-related entries using mean imputation. "
   ]
  },
  {
   "cell_type": "code",
   "execution_count": 14,
   "metadata": {},
   "outputs": [
    {
     "data": {
      "text/plain": [
       "business_id         0\n",
       "name                0\n",
       "address             0\n",
       "city                0\n",
       "state               0\n",
       "postal_code         0\n",
       "latitude            0\n",
       "longitude           0\n",
       "stars               0\n",
       "review_count        0\n",
       "is_open             0\n",
       "attributes      13744\n",
       "categories        103\n",
       "hours           23223\n",
       "dtype: int64"
      ]
     },
     "execution_count": 14,
     "metadata": {},
     "output_type": "execute_result"
    }
   ],
   "source": [
    "# Inspect NULL values \n",
    "checkin_df.isna().sum(axis=0)"
   ]
  },
  {
   "cell_type": "code",
   "execution_count": 45,
   "metadata": {},
   "outputs": [
    {
     "data": {
      "text/plain": [
       "dict_keys(['Doctors', 'Traditional Chinese Medicine', 'Naturopathic/Holistic', 'Acupuncture', 'Health & Medical', 'Nutritionists', 'Shipping Centers', 'Local Services', 'Notaries', 'Mailbox Centers', 'Printing Services', 'Department Stores', 'Shopping', 'Fashion', 'Home & Garden', 'Electronics', 'Furniture Stores', 'Restaurants', 'Food', 'Bubble Tea', 'Coffee & Tea', 'Bakeries', 'Brewpubs', 'Breweries', 'Burgers', 'Fast Food', 'Sandwiches', 'Ice Cream & Frozen Yogurt', 'Sporting Goods', 'Shoe Stores', 'Sports Wear', 'Accessories', 'Synagogues', 'Religious Organizations', 'Pubs', 'Italian', 'Bars', 'American (Traditional)', 'Nightlife', 'Greek', 'Vietnamese', 'Food Trucks', 'Diners', 'Breakfast & Brunch', 'General Dentistry', 'Dentists', 'Cosmetic Dentists', 'Delis', 'Sushi Bars', 'Japanese', 'Automotive', 'Auto Parts & Supplies', 'Auto Customization', 'Vape Shops', 'Tobacco Shops', 'Personal Shopping', 'Vitamins & Supplements', 'Car Rental', 'Hotels & Travel', 'Truck Rental', 'Korean', 'Cafes', 'Wine Bars', 'Books', 'Mags', 'Music & Video', 'Bookstores', 'Steakhouses', 'Asian Fusion', 'Hot Dogs', 'Pet Services', 'Pet Groomers', 'Pets', 'Veterinarians', \"Women's Clothing\", \"Children's Clothing\", \"Men's Clothing\", 'Adult', 'Seafood', 'Cocktail Bars', 'Pizza', 'Chicken Wings', 'Trampoline Parks', 'Active Life', 'Salad', 'Soup', 'Dance Wear', 'Arts & Entertainment', 'Social Clubs', 'Performing Arts', 'Event Planning & Services', 'Hotels', 'Eatertainment', 'Mobile Phones', 'Telecommunications', 'Mobile Phone Accessories', 'IT Services & Computer Repair', 'Museums', 'Kids Activities', 'Education', 'Playgrounds', \"Children's Museums\", 'Musicians', 'DJs', 'Karaoke', 'Hair Salons', 'Hair Extensions', 'Beauty & Spas', 'Wigs', 'Specialty Food', 'Pasta Shops', 'DUI Law', 'Professional Services', 'Lawyers', 'Criminal Defense Law', 'Laser Hair Removal', 'Hair Removal', 'Chiropractors', 'Weight Loss Centers', 'Sports Medicine', 'Medical Spas', 'Skin Care', 'Candle Stores', 'Home Decor', 'Chinese', 'Music Venues', 'Internet Service Providers', 'Jazz & Blues', 'Internet Cafes', 'Caterers', 'Fitness & Instruction', 'Trainers', 'Gyms', 'Yoga', 'Real Estate Agents', 'Home Services', 'Real Estate', 'Health Markets', 'Pet Adoption', 'Grocery', 'Convenience Stores', 'Juice Bars & Smoothies', 'Ophthalmologists', 'Eyewear & Opticians', 'Optometrists', 'American (New)', 'Sports Bars', 'Gastropubs', 'Beer Bar', 'Uniforms', 'Tours', 'Local Flavor', 'Appliances & Repair', 'Towing', 'Motorcycle Rental', 'Motorcycle Gear', 'Chocolatiers & Shops', 'Candy Stores', 'Baby Gear & Furniture', 'Banks & Credit Unions', 'Financial Services', 'Personal Care Services', 'Massage', 'Nail Salons', 'Tabletop Games', 'Lounges', 'Wraps', 'Festivals', 'Beer', 'Wine & Spirits', 'Gas Stations', 'Keys & Locksmiths', 'Pet Sitting', 'Venues & Event Spaces', 'Fruits & Veggies', 'Antiques', 'Body Shops', 'Masonry/Concrete', 'Gardeners', 'Lawn Services', 'Tree Services', 'Landscape Architects', 'Contractors', 'Landscaping', 'Party & Event Planning', 'Mortgage Brokers', 'Mortgage Lenders', 'Physical Therapy', 'Jewelry', 'Cajun/Creole', 'Mexican', 'Couriers & Delivery Services', 'French', 'Moroccan', 'Mediterranean', 'Flooring', 'Handyman', 'Pest Control', 'Auction Houses', 'Beer Gardens', 'Wine Tours', 'Beer Tours', 'Drugstores', 'Discount Store', 'Public Services & Government', 'Libraries', 'Flowers & Gifts', 'Embroidery & Crochet', 'Arts & Crafts', 'Gift Shops', 'Food Delivery Services', 'Parenting Classes', 'Maternity Wear', 'Specialty Schools', 'Laundry Services', 'Child Care & Day Care', 'Barbers', 'Glass & Mirrors', 'Door Sales/Installation', 'Hardware Stores', 'Hot Tub & Pool', 'Pool & Hot Tub Service', 'Tires', 'Auto Repair', 'Oil Change Stations', 'Medical Centers', 'Diagnostic Services', 'Orthopedists', 'Spine Surgeons', 'Diagnostic Imaging', 'Custom Cakes', 'Desserts', 'Cupcakes', 'Car Wash', 'Auto Detailing', 'Pain Management', 'Osteopathic Physicians', 'Title Loans', 'Installment Loans', 'Check Cashing/Pay-day Loans', 'Organic Stores', 'Do-It-Yourself Food', 'Patisserie/Cake Shop', 'Live/Raw Food', 'Buses', 'Transportation', 'Bus Tours', 'Travel Agents', 'Travel Services', 'Airport Shuttles', 'Public Transportation', 'Filipino', 'Internal Medicine', 'Toy Stores', 'Hobby Shops', 'Comic Books', 'Painters', 'Decks & Railing', 'Pressure Washers', 'Bed & Breakfast', 'Art Classes', 'Knitting Supplies', 'Art Supplies', 'Barbeque', 'Urgent Care', 'Basketball Courts', 'Stadiums & Arenas', 'Professional Sports Teams', 'Pharmacy', 'Tattoo', 'Music & DVDs', 'Video Game Stores', 'Waxing', 'Eyelash Service', 'Life Coach', 'Meditation Centers', 'Home Cleaning', 'Office Cleaning', 'Window Washing', 'Parks', 'Swimming Pools', 'Hair Stylists', 'Dog Parks', 'Cinema', 'Resorts', 'Day Spas', 'Shaved Ice', 'Appliances', 'Chicken Shop', 'Wildlife Control', 'Apartments', 'Roofing', 'Vacation Rentals', 'Condominiums', 'Thai', 'Auto Glass Services', 'Windshield Installation & Repair', 'Bagels', 'Endodontists', 'Plumbing', 'Carpeting', 'Rugs', 'Southern', 'Makeup Artists', 'Obstetricians & Gynecologists', 'Carpet Cleaning', 'Donuts', 'Hiking', 'Mountain Biking', 'ATV Rentals/Tours', 'RV Rental', 'Hawaiian', 'Street Vendors', 'Irish', 'Trailer Dealers', 'RV Repair', 'Trailer Repair', 'RV Dealers', 'Propane', 'Outdoor Gear', 'Pediatricians', 'Officiants', 'Wedding Planning', 'Hookah Bars', 'Car Dealers', 'Used Car Dealers', 'Vegan', 'Party Supplies', 'Wholesalers', 'Soul Food', 'Mattresses', 'Tapas/Small Plates', 'Team Building Activities', 'Walking Tours', 'Scavenger Hunts', 'Machine Shops', 'Shanghainese', 'Szechuan', 'Irish Pub', 'Coffee Roasteries', 'Endocrinologists', 'Dermatologists', 'Golf Lessons', 'Golf Equipment', 'Golf', 'Fishing', 'Hunting & Fishing Supplies', 'Rest Stops', 'Bike Repair/Maintenance', 'Bikes', 'Caribbean', 'Trinidadian', 'Tex-Mex', 'Piercing', 'Orthodontists', 'Oral Surgeons', 'Ethnic Food', 'Bike Rentals', 'Gluten-Free', 'Food Tours', 'Photography Stores & Services', 'Art Galleries', 'Latin American', 'Blow Dry/Out Services', 'Eyebrow Services', \"Men's Hair Salons\", 'Comfort Food', 'Windows Installation', 'Costumes', 'Refinishing Services', 'Shoe Repair', 'Sewing & Alterations', 'Radiologists', 'Tanning', 'Acai Bowls', 'Vegetarian', 'Pet Training', 'Pakistani', 'Indian', 'Halal', 'Food Stands', 'Public Art', 'Preschools', 'Elementary Schools', 'Dry Cleaning & Laundry', 'Animal Shelters', 'Seafood Markets', 'Movers', 'Self Storage', 'Insurance', 'Auto Insurance', 'Registration Services', 'Guest Houses', 'Musical Instruments & Teachers', 'Churches', 'Historical Tours', 'Community Service/Non-Profit', 'Family Practice', 'Counseling & Mental Health', 'Bowling', 'Countertop Installation', 'Cabinetry', 'Kitchen & Bath', 'Building Supplies', 'Interior Design', 'Military Surplus', 'Buffets', 'Medical Supplies', 'Laser Eye Surgery/Lasik', 'Hair Loss Centers', 'Walk-in Clinics', 'Empanadas', 'Nurseries & Gardening', 'Middle Eastern', 'Wholesale Stores', 'Brewing Supplies', 'Wineries', 'Cosmetology Schools', 'Tacos', 'Escape Games', 'Head Shops', 'Puerto Rican', 'Pet Stores', 'Cosmetics & Beauty Supply', 'Irrigation', 'Shutters', 'Siding', 'Watches', 'Jewelry Repair', 'Bridal', 'Parasailing', 'Beaches', 'Boating', 'Carpenters', 'Wallpapering', 'Shopping Centers', 'Heating & Air Conditioning/HVAC', 'Whiskey Bars', 'Session Photography', 'Photographers', 'Pet Photography', 'Real Estate Services', 'Real Estate Photography', 'Event Photography', 'Electronics Repair', 'Mobile Phone Repair', 'Gutter Services', 'Insulation Installation', 'Hospitals', 'Leather Goods', 'Furniture Reupholstery', 'Honduran', 'Security Systems', 'Security Services', 'Septic Services', 'Roadside Assistance', 'Junk Removal & Hauling', 'Ramen', 'Cannabis Collective', 'Cannabis Clinics', 'Cannabis Dispensaries', 'Home Window Tinting', 'Car Window Tinting', 'Vehicle Wraps', 'Transmission Repair', 'Sports Clubs', 'Arcades', 'Recreation Centers', 'Art Schools', 'Car Stereo Installation', 'Bespoke Clothing', 'Dry Cleaning', 'Permanent Makeup', 'Cryotherapy', 'Challenge Courses', 'Props', 'Noodles', 'Spanish', 'Formal Wear', 'Farmers Market', 'Pediatric Dentists', 'Massage Therapy', 'Imported Food', 'Cheesesteaks', 'Garage Door Services', 'Pretzels', 'African', 'Florists', 'University Housing', 'Property Management', 'Furniture Assembly', 'Pool & Billiards', 'Furniture Repair', 'Party Equipment Rentals', 'Virtual Reality Centers', 'Kebab', 'Turkish', 'Amusement Parks', 'Laser Tag', 'Race Tracks', 'Mini Golf', 'Go Karts', 'Community Centers', 'Day Camps', 'Summer Camps', 'Metal Fabricators', 'Awnings', 'Patio Coverings', 'Paint & Sip', 'Taxis', 'Signmaking', 'Guns & Ammo', 'Tea Rooms', 'Lebanese', 'Pilates', 'Barre Classes', 'Recycling Center', 'Gelato', 'Sugaring', 'Demolition Services', 'Carpet Installation', 'Tiling', 'Limos', 'Bar Crawl', 'Dive Bars', 'Haunted Houses', 'Fences & Gates', 'Home Inspectors', 'Skate Parks', 'Tubing', 'Ski Resorts', 'Creperies', 'Tutoring Centers', 'Test Preparation', 'Adult Education', 'Laundromat', 'Dance Studios', 'Party Bus Rentals', 'Appraisal Services', 'Fabric Stores', 'Lice Services', 'Dental Hygienists', 'Periodontists', 'Commercial Real Estate', 'Poke', 'Service Stations', 'Estheticians', 'Wheel & Rim Repair', 'Personal Injury Law', 'Radio Stations', 'Mass Media', 'Adult Entertainment', 'Lingerie', 'Dance Clubs', 'Falafel', 'Swimming Lessons/Schools', 'Jet Skis', 'Boat Charters', 'Boat Tours', 'Rafting/Kayaking', 'Shared Office Spaces', 'Psychics', 'Supernatural Readings', 'Psychic Mediums', 'Watch Repair', 'Fertility', 'Engraving', 'Graphic Design', 'Trophy Shops', 'Office Equipment', 'Motorcycle Repair', 'Tapas Bars', 'Outlet Stores', 'Pawn Shops', 'Gold Buyers', 'Outdoor Furniture Stores', 'Paint Stores', 'Fish & Chips', 'Smog Check Stations', 'Dog Walkers', 'Reiki', 'Teeth Whitening', 'Souvenir Shops', 'Thrift Stores', 'Donation Center', 'Used', 'Vintage & Consignment', 'Ranches', 'Farms', 'Kombucha', 'International Grocery', 'Taxidermy', 'Meat Shops', 'RV Parks', 'Campgrounds', 'Vinyl Records', 'Pool Halls', 'Skating Rinks', 'Rehabilitation Center', 'Kitchen Supplies', 'Hydroponics', 'Police Departments', 'Videos & Video Game Rental', 'Home Staging', 'Boot Camps', 'Peruvian', 'Herbs & Spices', 'Butcher', 'Gastroenterologist', 'Prosthodontists', 'Water Heater Installation/Repair', 'Swimwear', 'Employment Law', 'Workers Compensation Law', 'Water Delivery', 'Canadian (New)', 'Packing Supplies', 'Packing Services', 'Landmarks & Historical Buildings', 'Spiritual Shop', 'Religious Items', 'Lighting Stores', 'Ukrainian', 'Herbal Shops', 'Commercial Truck Repair', 'Farm Equipment Repair', 'Neurologist', 'Alternative Medicine', 'Medical Cannabis Referrals', 'Data Recovery', 'Home Theatre Installation', 'Home Automation', 'TV Mounting', 'Pet Boarding', 'Malaysian', 'Burmese', 'Amateur Sports Teams', 'Lighting Fixtures & Equipment', 'Electricians', 'Nail Technicians', 'Passport & Visa Services', 'Post Offices', 'Motorsport Vehicle Dealers', 'Motorsport Vehicle Repairs', 'Motorcycle Dealers', 'Shades & Blinds', 'Tanning Beds', 'Spray Tanning', 'Cuban', 'Educational Services', 'Vocational & Technical School', 'Wine Tasting Room', 'Personal Chefs', 'Divorce & Family Law', 'Legal Services', 'Oncologist', 'Surgeons', 'Flea Markets', 'Architects', 'Structural Engineers', 'Air Duct Cleaning', 'Martial Arts', 'Acne Treatment', 'Skate Shops', 'Surfing', 'Sicilian', 'Shoe Shine', 'Generator Installation/Repair', 'Floral Designers', 'Computers', 'Themed Cafes', 'Soccer', 'Water Purification Services', 'Water Suppliers', 'Utilities', 'Marketing', 'Web Design', 'Home Network Installation', 'Aestheticians', 'Plastic Surgeons', 'Damage Restoration', 'Advertising', 'Screen Printing', 'Excavation Services', 'Assisted Living Facilities', 'Retirement Homes', 'Memory Care', 'Cycling Classes', 'Aerial Fitness', 'Car Buyers', 'Cultural Center', 'Ear Nose & Throat', 'Hearing Aid Providers', 'Gay Bars', 'Driving Schools', 'Drywall Installation & Repair', 'Financial Advising', 'Accountants', 'Tax Services', 'Investing', 'Gun/Rifle Ranges', 'Firearm Training', 'Psychiatrists', 'Laboratory Testing', 'Airports', 'Solar Installation', 'Sardinian', 'Laotian', 'Teppanyaki', 'Urologists', 'Midwives', 'Boxing', 'Dominican', 'Plus Size Fashion', 'Billing Services', 'Cardio Classes', 'Flight Instruction', 'Aerial Tours', 'Framing', 'Badminton', 'Interval Training Gyms', 'Audiologist', 'Occupational Therapy', 'Speech Therapists', 'Pool Cleaners', 'Sunglasses', 'Climbing', 'Ethiopian', 'House Sitters', 'Pet Hospice', 'Pet Transportation', 'Recording & Rehearsal Studios', 'Print Media', 'Digitizing Services', 'Screen Printing/T-Shirt Printing', 'Roof Inspectors', 'Airport Lounges', 'Television Service Providers', 'Parking', 'Food Court', 'Life Insurance', 'Scuba Diving', 'Diving', 'Comedy Clubs', 'Persian/Iranian', 'Rheumatologists', 'Hong Kong Style Cafe', 'Taiwanese', 'Fireplace Services', 'Allergists', 'Cosmetic Surgeons', 'Reflexology', 'Cardiologists', 'Gymnastics', 'Archery', 'Bookkeepers', 'Payroll Services', 'Botanical Gardens', 'Blood & Plasma Donation Centers', 'Bartenders', 'Podiatrists', 'General Litigation', 'Modern European', 'Car Auctions', 'Pan Asian', 'Casinos', 'New Mexican Cuisine', 'Wine Tasting Classes', 'Tasting Classes', 'Donairs', 'Oriental', 'Funeral Services & Cemeteries', 'Surf Schools', 'Paddleboarding', 'Beach Equipment Rentals', 'Indoor Playcentre', 'Private Tutors', 'Jails & Prisons', 'Bingo Halls', 'Mobility Equipment Sales & Services', 'Home & Rental Insurance', 'Boat Repair', 'Cards & Stationery', 'Massage Schools', 'Childbirth Education', 'Environmental Testing', 'Auto Loan Providers', 'Grilling Equipment', 'German', 'Cremation Services', 'Business Consulting', 'Water Stores', 'Lakes', 'Employment Agencies', 'Cheese Shops', 'Private Investigation', 'IV Hydration', 'Christmas Trees', 'Arabic', 'Tiki Bars', 'Argentine', 'Golf Equipment Shops', 'Safe Stores', 'Departments of Motor Vehicles', 'Middle Schools & High Schools', 'Waldorf Schools', 'Junkyards', 'Reproductive Health Services', 'Horse Equipment Shops', 'Self-defense Classes', 'Kickboxing', 'Muay Thai', 'Float Spa', 'Gunsmith', 'Fire Protection Services', 'Waterproofing', 'Aquarium Services', 'Aquariums', 'Ayurveda', 'Paint-Your-Own Pottery', 'Portuguese', 'Dim Sum', 'Pickleball', 'Hot Pot', 'Country Clubs', 'Kitchen Incubators', 'Motorcycle Parts & Supplies', 'Saunas', 'Emergency Pet Hospital', 'Dance Schools', 'Town Car Service', 'Clock Repair', 'Balloon Services', 'Outdoor Power Equipment Services', 'Farming Equipment', 'Emergency Rooms', 'Anesthesiologists', 'Orthotics', 'Boat Dealers', 'Real Estate Law', 'Bankruptcy Law', 'Kids Hair Salons', 'Fitness/Exercise Equipment', 'Livestock Feed & Supply', 'Machine & Tool Rental', 'Trailer Rental', 'Matchmakers', 'Tennis', 'Boudoir Photography', 'EV Charging Stations', 'Pet Breeders', 'Home Organization', 'Battery Stores', 'Zoos', 'Petting Zoos', 'Art Restoration', 'Fondue', 'Poutineries', 'Threading Services', 'Piano Stores', 'Piano Services', 'Musical Instrument Services', 'Music Production Services', 'Snow Removal', 'Karate', 'Kosher', 'Glass Blowing', 'Axe Throwing', 'Henna Artists', 'Customized Merchandise', 'Hats', 'Grout Services', 'Bike Sharing', 'Chimney Sweeps', 'Ultrasound Imaging Centers', 'Macarons', 'Fingerprinting', 'Sleep Specialists', 'Dive Shops', 'Home Developers', 'Mobile Home Repair', 'Cantonese', 'Body Contouring', 'Pet Cremation Services', 'Clothing Rental', 'Medical Transportation', 'Brazilian Jiu-jitsu', 'Firewood', 'Art Tours', 'Leisure Centers', 'Newspapers & Magazines', 'Observatories', 'Brasseries', 'Distilleries', 'Used Bookstore', 'Auto Upholstery', 'Yelp Events', 'Personal Assistants', 'Salvadoran', 'Bounce House Rentals', 'Circuit Training Gyms', 'Cabaret', 'Mongolian', 'Astrologers', 'Knife Sharpening', 'Lactation Services', 'British', 'Water Parks', 'Art Space Rentals', 'Airlines', 'Waffles', 'Piano Bars', 'Health Retreats', 'Hydrotherapy', 'Television Stations', 'Perfume', 'Airport Terminals', 'Speakeasies', 'Religious Schools', 'Syrian', 'Vacation Rental Agents', 'Valet Services', 'Colleges & Universities', 'Commercial Truck Dealers', 'Traffic Schools', 'Popcorn Shops', 'Pop-Up Restaurants', 'Hospice', 'Armenian', 'Hydro-jetting', 'Ski & Snowboard Shops', 'International', 'Cigar Bars', 'Well Drilling', 'Special Education', 'Wedding Chapels', 'Strip Clubs', 'Business Law', 'Estate Planning Law', 'Wills', 'Trusts', '& Probates', 'Local Fish Stores', 'Cooking Schools', 'Venezuelan', 'Prenatal/Perinatal Care', 'Ethnic Grocery', 'Video/Film Production', 'Cooking Classes', 'Disc Golf', 'Mobile Dent Repair', 'Magicians', 'Halotherapy', 'Colombian', 'Brazilian', 'Haitian', 'Pet Insurance', 'Free Diving', 'Bus Rental', 'Public Relations', 'Russian', 'Bird Shops', 'Hockey Equipment', 'Czech', 'Himalayan/Nepalese', 'Surf Shop', 'Home Energy Auditors', 'Doulas', 'Placenta Encapsulations', 'Shredding Services', 'Delicatessen', 'Courthouses', 'Hostels', 'Homeowner Association', 'Bartending Schools', 'Home Health Care', 'Tui Na', 'Art Museums', 'Foundation Repair', 'Guitar Stores', 'Club Crawl', 'Smokehouse', 'High Fidelity Audio Equipment', 'Polish', 'Social Security Law', 'Health Insurance Offices', 'Colonics', 'Rock Climbing', 'Business Financing', 'Hainan', 'Dumpster Rental', 'Psychologists', 'Attraction Farms', 'Pick Your Own Farms', 'Ticket Sales', 'Photo Booth Rentals', 'Bicycle Paths', 'Afghan', 'Cafeteria', 'Cambodian', 'Cideries', 'Language Schools', 'Skilled Nursing', 'Career Counseling', 'Auto Security', 'Estate Liquidation', 'Videographers', 'Immigration Law', 'Tuscan', 'Restaurant Supplies', 'Hypnosis/Hypnotherapy', 'Gemstones & Minerals', 'Public Markets', 'Car Brokers', 'Car Share Services', 'Somali', 'Architectural Tours', 'Olive Oil', 'Tattoo Removal', 'Indonesian', 'Private Schools', 'Shaved Snow', 'Powder Coating', 'Train Stations', 'Batting Cages', 'Pet Waste Removal', 'Nanny Services', 'Food Banks', 'Champagne Bars', 'Environmental Abatement', 'Health Coach', 'Senegalese', 'Coffee & Tea Supplies', 'Snorkeling', 'Bike Repair', 'Bicycles', 'Crane Services', 'Holiday Decorations', 'Ethical Grocery', 'Immunodermatologists', 'Vehicle Shipping', 'Coffeeshops', 'Talent Agencies', 'Party Bike Rentals', 'Horseback Riding', 'Beverage Store', 'Luggage', 'Safety Equipment', 'Car Inspectors', 'Taekwondo', 'Pole Dancing Classes', 'Nursing Schools', 'Scooter Rentals', 'Pop-up Shops', 'Addiction Medicine', 'Photography Classes', 'Paintball', 'Drive-Thru Bars', 'Trains', 'Bike tours', 'Flowers', 'Races & Competitions', 'Squash', 'Translation Services', 'Sports Betting', 'Nephrologists', 'Stucco Services', 'Audio/Visual Equipment Rental', 'Nurse Practitioner', 'Grill Services', 'Emergency Medicine', 'Singaporean', 'CPR Classes', 'Preventive Medicine', 'Striptease Dancers', 'Qi Gong', 'Tai Chi', 'Honey', 'Undersea/Hyperbaric Medicine', 'Software Development', 'Fireworks', 'LAN Centers', 'Trivia Hosts', 'Land Surveying', 'Reptile Shops', 'Stonemasons', 'Vascular Medicine', 'Phlebologists', 'Bistros', 'Horse Boarding', 'Airsoft', 'Crisis Pregnancy Centers', 'Faith-based Crisis Pregnancy Centers', 'Traffic Ticketing Law', 'Meaderies', 'Austrian', 'Mobile Home Parks', 'Commissioned Artists', 'Baseball Fields', 'Pumpkin Patches', 'Marinas', 'Tenant and Eviction Law', 'Proctologists', 'Parent Cafes', 'Basque', 'Tableware', 'Mediators', 'Debt Relief Services', 'Drive-In Theater', 'Pulmonologist', 'Chinese Martial Arts', 'Calabrian', 'Editorial Services', 'Playsets', 'Country Dance Halls', 'Iberian', 'Australian', 'Medical Law', 'Gerontologists', 'Japanese Curry', 'Buddhist Temples', 'Private Jet Charter', 'Dietitians', 'Hot Air Balloons', 'Montessori Schools', 'South African', 'Prosthetics', 'Ski Schools', 'Dinner Theater', 'Animal Physical Therapy', 'Visitor Centers', 'Face Painting', 'Izakaya', 'Nicaraguan', 'Drones', 'Golf Cart Dealers', 'Bangladeshi', 'Carpet Dyeing', 'Municipality', 'Product Design', 'Holistic Animal Care', 'Drama Schools', 'Concept Shops', 'Scottish', 'Opera & Ballet', 'Adoption Services', 'Pancakes', 'Unofficial Yelp Events', 'Flyboarding', 'Electricity Suppliers', 'Indoor Landscaping', 'Game Truck Rental', 'Rolfing', 'Backflow Services', 'Portable Toilet Services', 'DIY Auto Shop', 'Belgian', 'CSA', 'General Festivals', 'Artificial Turf', 'Racing Experience', 'Lahmacun', 'Infectious Disease Specialists', 'Pedicabs', 'Egyptian', 'Retina Specialists', 'Clowns', 'Party Characters', 'Sri Lankan', 'Mobile Home Dealers', 'Carousels', 'Horse Racing', 'Boat Parts & Supplies', 'Hybrid Car Repair', 'Uzbek', 'Caricatures', 'Scandinavian', 'Skydiving', 'Spin Classes', 'Diamond Buyers', 'Process Servers', 'Aircraft Repairs', 'Tax Law', 'Concierge Medicine', 'Behavior Analysts', 'Whale Watching Tours', 'IP & Internet Law', 'Art Consultants', 'Art Installation', 'Holiday Decorating Services', 'Bail Bondsmen', 'Elevator Services', 'Public Adjusters', 'Silent Disco', 'Israeli', 'Sperm Clinic', 'Childproofing', 'Embassy', 'Golf Cart Rentals', 'Supper Clubs', 'First Aid Classes', 'Bookbinding', 'Community Gardens', 'Kiteboarding', 'Vermouth Bars', 'Hazardous Waste Disposal', 'Solar Panel Cleaning', 'Sledding', 'Sandblasting', 'Neuropathologists', 'Planetarium', 'Furniture Rental', 'Beer Hall', 'Veterans Organizations', 'Fur Clothing', 'Ziplining', 'Hang Gliding', 'Paragliding', 'Sex Therapists', 'Elder Care Planning', 'Georgian', 'Mortuary Services', 'Duplication Services', 'Disability Law', 'Sailing', 'Hepatologists', 'College Counseling', 'Aircraft Dealers', 'Nudist', 'Otologists', 'Fuzhou', 'Currency Exchange', 'Foot Care', 'Ferries', 'Senior Centers', 'Homeless Shelters', 'Traditional Clothing', 'Fire Departments', 'Outdoor Movies', 'Sport Equipment Hire', 'Fuel Docks', 'Teacher Supplies', 'Oxygen Bars', 'Osteopaths', 'Parklets', 'Town Hall', 'Bike Shop', '3D Printing', 'Biohazard Cleanup', 'Neurotologists', 'Experiences', 'Apartment Agents', 'Hotel bar', 'Elder Law', 'Pathologists', 'Sheds & Outdoor Storage', 'Kiosk', 'Sports Psychologists', 'Luggage Storage', 'Bike Parking', 'Roman', 'Beach Bars', 'Bus Stations', 'Calligraphy', 'Contract Law', 'Hungarian', 'Hindu Temples', 'DUI Schools', 'Hakka', 'Consumer Law', 'Patent Law', 'Cannabis Tours', 'Bocce Ball', 'Scooter Tours', 'Housing Cooperatives', 'Guamanian', 'Cheese Tasting Classes', 'Tonkatsu', 'Donburi', 'Animal Assisted Therapy', 'Skiing', 'Pita', 'Vocal Coach', 'Eastern European', 'Sauna Installation & Repair', 'Interlock Systems', 'Mosques', 'Ice Delivery', 'Storefront Clinics', 'Metal Detector Services', 'Wildlife Hunting Ranges', 'Rodeo', 'Dumplings', 'Fencing Clubs', 'Cheerleading', 'Cucina campana', 'Dart Arenas', 'Circus Schools', 'Karaoke Rental', 'Halfway Houses', 'Mohels', 'Aviation Services', 'Conveyor Belt Sushi', 'Dialysis Clinics', 'Makerspaces', 'Natural Gas Suppliers', 'Hospitalists', 'Serbo Croatian', 'Ceremonial Clothing', 'Bubble Soccer', 'Trade Fairs'])"
      ]
     },
     "execution_count": 45,
     "metadata": {},
     "output_type": "execute_result"
    }
   ],
   "source": [
    "category_list = dict()\n",
    "count = 0\n",
    "for i in range(len(checkin_df)):\n",
    "    if checkin_df[\"categories\"][i]:\n",
    "        categories = [c.strip() for c in checkin_df[\"categories\"][i].split(\",\")]\n",
    "    for c in categories:\n",
    "        if c not in category_list.keys():\n",
    "            category_list[c] = 1\n",
    "        else:\n",
    "            category_list[c] += 1"
   ]
  },
  {
   "cell_type": "code",
   "execution_count": 61,
   "metadata": {},
   "outputs": [
    {
     "data": {
      "text/plain": [
       "business_id      object\n",
       "name             object\n",
       "address          object\n",
       "city             object\n",
       "state            object\n",
       "postal_code      object\n",
       "latitude        float64\n",
       "longitude       float64\n",
       "stars           float64\n",
       "review_count      int64\n",
       "is_open           int64\n",
       "attributes       object\n",
       "categories       object\n",
       "hours            object\n",
       "dtype: object"
      ]
     },
     "execution_count": 61,
     "metadata": {},
     "output_type": "execute_result"
    }
   ],
   "source": []
  },
  {
   "cell_type": "code",
   "execution_count": null,
   "metadata": {},
   "outputs": [],
   "source": [
    "len(category_list)"
   ]
  },
  {
   "cell_type": "code",
   "execution_count": 58,
   "metadata": {},
   "outputs": [
    {
     "data": {
      "text/plain": [
       "{'whiskers': [<matplotlib.lines.Line2D at 0x7fe802207370>,\n",
       "  <matplotlib.lines.Line2D at 0x7fe802207640>],\n",
       " 'caps': [<matplotlib.lines.Line2D at 0x7fe8022079d0>,\n",
       "  <matplotlib.lines.Line2D at 0x7fe802207be0>],\n",
       " 'boxes': [<matplotlib.lines.Line2D at 0x7fe8022070a0>],\n",
       " 'medians': [<matplotlib.lines.Line2D at 0x7fe802207eb0>],\n",
       " 'fliers': [<matplotlib.lines.Line2D at 0x7fe80221e1c0>],\n",
       " 'means': []}"
      ]
     },
     "execution_count": 58,
     "metadata": {},
     "output_type": "execute_result"
    },
    {
     "data": {
      "image/png": "[encoded data removed]",
      "text/plain": [
       "<Figure size 432x288 with 1 Axes>"
      ]
     },
     "metadata": {
      "needs_background": "light"
     },
     "output_type": "display_data"
    }
   ],
   "source": [
    "plt.boxplot(checkin_df[\"stars\"])"
   ]
  },
  {
   "cell_type": "code",
   "execution_count": null,
   "metadata": {},
   "outputs": [],
   "source": []
  }
 ],
 "metadata": {
  "kernelspec": {
   "display_name": "Python 3",
   "language": "python",
   "name": "python3"
  },
  "language_info": {
   "codemirror_mode": {
    "name": "ipython",
    "version": 3
   },
   "file_extension": ".py",
   "mimetype": "text/x-python",
   "name": "python",
   "nbconvert_exporter": "python",
   "pygments_lexer": "ipython3",
   "version": "3.11.5"
  }
 },
 "nbformat": 4,
 "nbformat_minor": 4
}
