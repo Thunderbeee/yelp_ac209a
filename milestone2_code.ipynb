{
 "cells": [
  {
   "cell_type": "code",
   "execution_count": 4,
   "metadata": {},
   "outputs": [],
   "source": [
    "import os\n",
    "import json\n",
    "import pandas as pd\n",
    "import matplotlib.pyplot as plt\n",
    "from pathlib import Path\n",
    "import seaborn as sns\n",
    "\n",
    "root_dir = Path(\"yelp_dataset\") # Change w.r.t your own directory"
   ]
  },
  {
   "cell_type": "code",
   "execution_count": 5,
   "metadata": {},
   "outputs": [
    {
     "name": "stdout",
     "output_type": "stream",
     "text": [
      "/Users/mingyuanma/Desktop/yelp_ac209a\r\n"
     ]
    }
   ],
   "source": [
    "! pwd"
   ]
  },
  {
   "cell_type": "markdown",
   "metadata": {},
   "source": [
    "### Data Description of Yelp Business Dataset \n",
    "\n",
    "#### Data Loading  \n",
    "\n",
    "We download the data from [the official webset](https://www.yelp.com/dataset/download) through simple verification.\n",
    "\n",
    "The original file is in JSON format. While loading data, we tried using the built-in pandas `read_json` method, but failed in the first place. Eventually we ended up reading the JSON file line by line and constructing the DataFrame from scratch. "
   ]
  },
  {
   "cell_type": "markdown",
   "metadata": {},
   "source": [
    "#### Data Description \n",
    "An official documentation is given by Yelp on [https://www.yelp.com/dataset/documentation/main](https://www.yelp.com/dataset/documentation/main)\n",
    "\n",
    "The yelp dataset consists of five tables (and also one for photo data, though we're not gonna use it) in total, namely `business`, `review`,\n",
    "`user`, `checkin`, `tip`. We start with looking into the `business` table, which describes attributes of merchants.\n",
    "\n",
    "The raw DataFrame contains 14 columns, specifying: \n",
    "1. `business_id`: The unique ID of the business. Type: string\n",
    "2. `name`: Name of the merchant. Type: string\n",
    "3. `address`: Exact address of the merchant. Type: string\n",
    "4. `city`: City where the merchant is located. Type: string\n",
    "5. `state`: State where the merchant is located. Type: string \n",
    "6. `postal_code`: Postal code of the merchant. Type: string\n",
    "7. `latitude`: Latitude of the location of merchant. Type: float64 \n",
    "8. `longitude`: Longitude of the location of merchant. Type: float64\n",
    "9. `stars`: Average rating of the merchant. Type: float64\n",
    "10. `review_count`: Number of reviews the merchant has received so far. Type: int \n",
    "11. `is_open`: If the merchant still exists. Type: int\n",
    "12. `attributes`: Attributes/ servies that the merchant provides. Type: dict\n",
    "13. `categories`: Labels of the merchant. Type: string (with categories separated by commas)\n",
    "14. `hours`: Opening hours of the merchant. Type: dict\n",
    "\n",
    "There are 150346 merchants in total."
   ]
  },
  {
   "cell_type": "code",
   "execution_count": 6,
   "metadata": {},
   "outputs": [
    {
     "data": {
      "text/plain": [
       "((150346, 14),\n",
       " business_id      object\n",
       " name             object\n",
       " address          object\n",
       " city             object\n",
       " state            object\n",
       " postal_code      object\n",
       " latitude        float64\n",
       " longitude       float64\n",
       " stars           float64\n",
       " review_count      int64\n",
       " is_open           int64\n",
       " attributes       object\n",
       " categories       object\n",
       " hours            object\n",
       " dtype: object)"
      ]
     },
     "execution_count": 6,
     "metadata": {},
     "output_type": "execute_result"
    }
   ],
   "source": [
    "business_json = root_dir / \"yelp_academic_dataset_business.json\" # Change dataset name if necessary\n",
    "data_file = open(business_json)\n",
    "\n",
    "data = []\n",
    "for line in data_file:\n",
    "    data.append(json.loads(line))\n",
    "checkin_df = pd.DataFrame(data)\n",
    "data_file.close()\n",
    "\n",
    "checkin_df.shape, checkin_df.dtypes"
   ]
  },
  {
   "cell_type": "code",
   "execution_count": 7,
   "metadata": {},
   "outputs": [
    {
     "data": {
      "text/html": [
       "<div>\n",
       "<style scoped>\n",
       "    .dataframe tbody tr th:only-of-type {\n",
       "        vertical-align: middle;\n",
       "    }\n",
       "\n",
       "    .dataframe tbody tr th {\n",
       "        vertical-align: top;\n",
       "    }\n",
       "\n",
       "    .dataframe thead th {\n",
       "        text-align: right;\n",
       "    }\n",
       "</style>\n",
       "<table border=\"1\" class=\"dataframe\">\n",
       "  <thead>\n",
       "    <tr style=\"text-align: right;\">\n",
       "      <th></th>\n",
       "      <th>business_id</th>\n",
       "      <th>name</th>\n",
       "      <th>address</th>\n",
       "      <th>city</th>\n",
       "      <th>state</th>\n",
       "      <th>postal_code</th>\n",
       "      <th>latitude</th>\n",
       "      <th>longitude</th>\n",
       "      <th>stars</th>\n",
       "      <th>review_count</th>\n",
       "      <th>is_open</th>\n",
       "      <th>attributes</th>\n",
       "      <th>categories</th>\n",
       "      <th>hours</th>\n",
       "    </tr>\n",
       "  </thead>\n",
       "  <tbody>\n",
       "    <tr>\n",
       "      <th>0</th>\n",
       "      <td>Pns2l4eNsfO8kk83dixA6A</td>\n",
       "      <td>Abby Rappoport, LAC, CMQ</td>\n",
       "      <td>1616 Chapala St, Ste 2</td>\n",
       "      <td>Santa Barbara</td>\n",
       "      <td>CA</td>\n",
       "      <td>93101</td>\n",
       "      <td>34.426679</td>\n",
       "      <td>-119.711197</td>\n",
       "      <td>5.0</td>\n",
       "      <td>7</td>\n",
       "      <td>0</td>\n",
       "      <td>{'ByAppointmentOnly': 'True'}</td>\n",
       "      <td>Doctors, Traditional Chinese Medicine, Naturop...</td>\n",
       "      <td>None</td>\n",
       "    </tr>\n",
       "    <tr>\n",
       "      <th>1</th>\n",
       "      <td>mpf3x-BjTdTEA3yCZrAYPw</td>\n",
       "      <td>The UPS Store</td>\n",
       "      <td>87 Grasso Plaza Shopping Center</td>\n",
       "      <td>Affton</td>\n",
       "      <td>MO</td>\n",
       "      <td>63123</td>\n",
       "      <td>38.551126</td>\n",
       "      <td>-90.335695</td>\n",
       "      <td>3.0</td>\n",
       "      <td>15</td>\n",
       "      <td>1</td>\n",
       "      <td>{'BusinessAcceptsCreditCards': 'True'}</td>\n",
       "      <td>Shipping Centers, Local Services, Notaries, Ma...</td>\n",
       "      <td>{'Monday': '0:0-0:0', 'Tuesday': '8:0-18:30', ...</td>\n",
       "    </tr>\n",
       "    <tr>\n",
       "      <th>2</th>\n",
       "      <td>tUFrWirKiKi_TAnsVWINQQ</td>\n",
       "      <td>Target</td>\n",
       "      <td>5255 E Broadway Blvd</td>\n",
       "      <td>Tucson</td>\n",
       "      <td>AZ</td>\n",
       "      <td>85711</td>\n",
       "      <td>32.223236</td>\n",
       "      <td>-110.880452</td>\n",
       "      <td>3.5</td>\n",
       "      <td>22</td>\n",
       "      <td>0</td>\n",
       "      <td>{'BikeParking': 'True', 'BusinessAcceptsCredit...</td>\n",
       "      <td>Department Stores, Shopping, Fashion, Home &amp; G...</td>\n",
       "      <td>{'Monday': '8:0-22:0', 'Tuesday': '8:0-22:0', ...</td>\n",
       "    </tr>\n",
       "    <tr>\n",
       "      <th>3</th>\n",
       "      <td>MTSW4McQd7CbVtyjqoe9mw</td>\n",
       "      <td>St Honore Pastries</td>\n",
       "      <td>935 Race St</td>\n",
       "      <td>Philadelphia</td>\n",
       "      <td>PA</td>\n",
       "      <td>19107</td>\n",
       "      <td>39.955505</td>\n",
       "      <td>-75.155564</td>\n",
       "      <td>4.0</td>\n",
       "      <td>80</td>\n",
       "      <td>1</td>\n",
       "      <td>{'RestaurantsDelivery': 'False', 'OutdoorSeati...</td>\n",
       "      <td>Restaurants, Food, Bubble Tea, Coffee &amp; Tea, B...</td>\n",
       "      <td>{'Monday': '7:0-20:0', 'Tuesday': '7:0-20:0', ...</td>\n",
       "    </tr>\n",
       "    <tr>\n",
       "      <th>4</th>\n",
       "      <td>mWMc6_wTdE0EUBKIGXDVfA</td>\n",
       "      <td>Perkiomen Valley Brewery</td>\n",
       "      <td>101 Walnut St</td>\n",
       "      <td>Green Lane</td>\n",
       "      <td>PA</td>\n",
       "      <td>18054</td>\n",
       "      <td>40.338183</td>\n",
       "      <td>-75.471659</td>\n",
       "      <td>4.5</td>\n",
       "      <td>13</td>\n",
       "      <td>1</td>\n",
       "      <td>{'BusinessAcceptsCreditCards': 'True', 'Wheelc...</td>\n",
       "      <td>Brewpubs, Breweries, Food</td>\n",
       "      <td>{'Wednesday': '14:0-22:0', 'Thursday': '16:0-2...</td>\n",
       "    </tr>\n",
       "  </tbody>\n",
       "</table>\n",
       "</div>"
      ],
      "text/plain": [
       "              business_id                      name   \n",
       "0  Pns2l4eNsfO8kk83dixA6A  Abby Rappoport, LAC, CMQ  \\\n",
       "1  mpf3x-BjTdTEA3yCZrAYPw             The UPS Store   \n",
       "2  tUFrWirKiKi_TAnsVWINQQ                    Target   \n",
       "3  MTSW4McQd7CbVtyjqoe9mw        St Honore Pastries   \n",
       "4  mWMc6_wTdE0EUBKIGXDVfA  Perkiomen Valley Brewery   \n",
       "\n",
       "                           address           city state postal_code   \n",
       "0           1616 Chapala St, Ste 2  Santa Barbara    CA       93101  \\\n",
       "1  87 Grasso Plaza Shopping Center         Affton    MO       63123   \n",
       "2             5255 E Broadway Blvd         Tucson    AZ       85711   \n",
       "3                      935 Race St   Philadelphia    PA       19107   \n",
       "4                    101 Walnut St     Green Lane    PA       18054   \n",
       "\n",
       "    latitude   longitude  stars  review_count  is_open   \n",
       "0  34.426679 -119.711197    5.0             7        0  \\\n",
       "1  38.551126  -90.335695    3.0            15        1   \n",
       "2  32.223236 -110.880452    3.5            22        0   \n",
       "3  39.955505  -75.155564    4.0            80        1   \n",
       "4  40.338183  -75.471659    4.5            13        1   \n",
       "\n",
       "                                          attributes   \n",
       "0                      {'ByAppointmentOnly': 'True'}  \\\n",
       "1             {'BusinessAcceptsCreditCards': 'True'}   \n",
       "2  {'BikeParking': 'True', 'BusinessAcceptsCredit...   \n",
       "3  {'RestaurantsDelivery': 'False', 'OutdoorSeati...   \n",
       "4  {'BusinessAcceptsCreditCards': 'True', 'Wheelc...   \n",
       "\n",
       "                                          categories   \n",
       "0  Doctors, Traditional Chinese Medicine, Naturop...  \\\n",
       "1  Shipping Centers, Local Services, Notaries, Ma...   \n",
       "2  Department Stores, Shopping, Fashion, Home & G...   \n",
       "3  Restaurants, Food, Bubble Tea, Coffee & Tea, B...   \n",
       "4                          Brewpubs, Breweries, Food   \n",
       "\n",
       "                                               hours  \n",
       "0                                               None  \n",
       "1  {'Monday': '0:0-0:0', 'Tuesday': '8:0-18:30', ...  \n",
       "2  {'Monday': '8:0-22:0', 'Tuesday': '8:0-22:0', ...  \n",
       "3  {'Monday': '7:0-20:0', 'Tuesday': '7:0-20:0', ...  \n",
       "4  {'Wednesday': '14:0-22:0', 'Thursday': '16:0-2...  "
      ]
     },
     "execution_count": 7,
     "metadata": {},
     "output_type": "execute_result"
    }
   ],
   "source": [
    "checkin_df.head()"
   ]
  },
  {
   "cell_type": "markdown",
   "metadata": {},
   "source": [
    "#### Data Manipulation\n",
    "\n",
    "The first thing we notice is how to break down and make use of the object-type columns (`attributes` and `categories`), since they are descriptive features that reflect how comfortable the dining experience is, and how good the merchant might be. We first check the possible values of the attributes and categories, and we found that there are **1311** possible categories and **39** possible attributes in total. Besides, a merchant tends to have more than one category type and one or more attributes. Thus, how to encode those data becomes an interesting topic."
   ]
  },
  {
   "cell_type": "code",
   "execution_count": 8,
   "metadata": {},
   "outputs": [],
   "source": [
    "# dive into `attributes` and `categories` of the merchants\n",
    "cat_set = set()\n",
    "attr_set = set()\n",
    "for i, row in checkin_df.iterrows():\n",
    "    cat = row['categories']\n",
    "    attr = row['attributes']\n",
    "    if cat:\n",
    "        for c in cat.split(', '):\n",
    "            cat_set.add(c)\n",
    "    \n",
    "    if attr:\n",
    "        for k in attr.keys():\n",
    "            attr_set.add(k)"
   ]
  },
  {
   "cell_type": "code",
   "execution_count": 9,
   "metadata": {},
   "outputs": [
    {
     "name": "stdout",
     "output_type": "stream",
     "text": [
      "Possible category:  1311\n",
      "Possible attribute:  39\n"
     ]
    }
   ],
   "source": [
    "print(\"Possible category: \", len(cat_set))\n",
    "print(\"Possible attribute: \", len(attr_set))"
   ]
  },
  {
   "cell_type": "markdown",
   "metadata": {},
   "source": [
    "#### Checking potential imbalance\n",
    "\n",
    "Another thing is, is the stars of the merchants really imbalanced? Judging from the histogram, we can see that though there is sort of imbalance among classes(the majority of merchants has star of 3.5-4.5), every class has sufficient samples to analyze. Therefore, we can resample the data to solve the imbalance issue"
   ]
  },
  {
   "cell_type": "code",
   "execution_count": 10,
   "metadata": {},
   "outputs": [
    {
     "data": {
      "text/plain": [
       "{'whiskers': [<matplotlib.lines.Line2D at 0x2a3aa8a50>,\n",
       "  <matplotlib.lines.Line2D at 0x2a3aa9850>],\n",
       " 'caps': [<matplotlib.lines.Line2D at 0x2a3aaa450>,\n",
       "  <matplotlib.lines.Line2D at 0x2a3aab190>],\n",
       " 'boxes': [<matplotlib.lines.Line2D at 0x2a3a6d250>],\n",
       " 'medians': [<matplotlib.lines.Line2D at 0x2a3aabd10>],\n",
       " 'fliers': [<matplotlib.lines.Line2D at 0x2a3a9f850>],\n",
       " 'means': []}"
      ]
     },
     "execution_count": 10,
     "metadata": {},
     "output_type": "execute_result"
    },
    {
     "data": {
      "image/png": "[encoded data removed]",
      "text/plain": [
       "<Figure size 640x480 with 1 Axes>"
      ]
     },
     "metadata": {},
     "output_type": "display_data"
    }
   ],
   "source": [
    "plt.boxplot(checkin_df[\"stars\"])"
   ]
  },
  {
   "cell_type": "code",
   "execution_count": 11,
   "metadata": {},
   "outputs": [
    {
     "data": {
      "text/plain": [
       "Text(0.5, 1.0, 'Stars distribution')"
      ]
     },
     "execution_count": 11,
     "metadata": {},
     "output_type": "execute_result"
    },
    {
     "data": {
      "image/png": "[encoded data removed]",
      "text/plain": [
       "<Figure size 640x480 with 1 Axes>"
      ]
     },
     "metadata": {},
     "output_type": "display_data"
    }
   ],
   "source": [
    "sns.histplot(data=checkin_df, x='stars').set_title('Stars distribution')"
   ]
  },
  {
   "cell_type": "code",
   "execution_count": 12,
   "metadata": {},
   "outputs": [
    {
     "data": {
      "text/plain": [
       "(17874, 14)"
      ]
     },
     "execution_count": 12,
     "metadata": {},
     "output_type": "execute_result"
    }
   ],
   "source": [
    "# Potential solution for imbalance issue.\n",
    "cnt = checkin_df[checkin_df['stars']==1.0].shape[0]\n",
    "\n",
    "new_df = pd.DataFrame()\n",
    "for s in range(2, 11):\n",
    "    star = s / 2\n",
    "    sub_df = checkin_df[checkin_df['stars'] == star].sample(cnt)\n",
    "    new_df = pd.concat([new_df, sub_df], axis=0)\n",
    "new_df.shape"
   ]
  },
  {
   "cell_type": "markdown",
   "metadata": {},
   "source": [
    "##### Differences in the scale of features"
   ]
  },
  {
   "cell_type": "markdown",
   "metadata": {},
   "source": [
    "In our proposal, we do not rely too much on numeric data, so the scale of features does not matter too much."
   ]
  },
  {
   "cell_type": "markdown",
   "metadata": {},
   "source": [
    "\n",
    "\n",
    "#### Data Processing  \n",
    "**1. Preliminary Missing Value Handling**  \n",
    "By inspecting the dataset, we find that the following columns have missing values: \n",
    "\n",
    "| attributes | categories | hours    |\n",
    "| :--------:   | :-------:    | :--------: |\n",
    "| 13744      | 103        | 23223    |\n",
    "\n",
    "`categories` is crutial for grouping merchants by their functionality, and there is no way we can interprete or evaluate out final result without knowing the purpose of the merchant. Furthermore, the number of missing values (103) is minimal compared to the whole dataset (> 150,000). Therefore, we will remove all merchants that are missing the `categories` labels.  \n",
    "The number of missing values in the other two columns is not negligible. How we handle NULL `attribute` and `hours` will be stated later in the document.\n",
    "\n",
    "**2. More In-depth Data Manipulation**  \n",
    "The raw type of `attribute` column is a recursive dictionary. We decide to expand it into a group of one-hot vectors.  \n",
    "We will first determine a comprehensive list of attributes by looping into each entry.We set up another dictionary (called `attribute_dict`) to keep track of the process by taking attribute names as keys and record all possible values.   \n",
    "After constructing the dictionary, we would like to look at the possible values of each attribute. For those that only have \"True/False\", \"yes/no\" indicators, we will construct a new attribute column with only 0's and 1's (e.g.: 'BusinessAcceptsCreditCards', 'ByAppointmentOnly'). For those that have multiple levels or types, we will decide on a case-by-case manner (e.g.: for attributes that have internal ordering like 'NoiseLevel', we will provide an ordering scheme [0, 1, 2, 3]; for attributes that are not ordered like \"Alcohol\", we will separted each value as a one-hot vector.)\n",
    "\n",
    "The raw type of `categories` column is a string separating category names with commas. We first create a list of categories for every merchant, and merge them together for a comprehensive list. \n",
    "One way to proceed is to creat a one-hot vector for each category. However, we noticed that there are more than 1,300 categories in total. Since we are not interested in all types of merchants, we may just select a subset of categories, and exclude all merchants that do not belong to these labels. \n",
    "\n",
    "Finally, the `hours` column is stored as a length-7 dictionary with days of the week as keys and a string representing operating hours as columns.  \n",
    "We would like to first create 14 new columns storing the opening and closing time for each day of the week. We can add another column indicating if the merchant is missing the `hours` entry. \n",
    "\n",
    "**3. Further Missing Value Handling**  \n",
    "After tidying and expanding data features, we go back to the `attribute` and `hours` column to handle their missing values. \n",
    "\n",
    "For NULL attributes, we can simply fill in all attribute-related columns with the \"majority vote\" (i.e., the mode of that column). \n",
    "\n",
    "For NULL hours, we can fill in the hour-related entries using mean imputation. "
   ]
  },
  {
   "cell_type": "code",
   "execution_count": 13,
   "metadata": {},
   "outputs": [
    {
     "data": {
      "text/plain": [
       "business_id         0\n",
       "name                0\n",
       "address             0\n",
       "city                0\n",
       "state               0\n",
       "postal_code         0\n",
       "latitude            0\n",
       "longitude           0\n",
       "stars               0\n",
       "review_count        0\n",
       "is_open             0\n",
       "attributes      13744\n",
       "categories        103\n",
       "hours           23223\n",
       "dtype: int64"
      ]
     },
     "execution_count": 13,
     "metadata": {},
     "output_type": "execute_result"
    }
   ],
   "source": [
    "# Inspect NULL values \n",
    "checkin_df.isna().sum(axis=0)"
   ]
  },
  {
   "cell_type": "code",
   "execution_count": null,
   "metadata": {},
   "outputs": [],
   "source": []
  },
  {
   "cell_type": "code",
   "execution_count": null,
   "metadata": {},
   "outputs": [],
   "source": []
  },
  {
   "cell_type": "code",
   "execution_count": null,
   "metadata": {},
   "outputs": [],
   "source": []
  },
  {
   "cell_type": "code",
   "execution_count": null,
   "metadata": {},
   "outputs": [],
   "source": []
  },
  {
   "cell_type": "code",
   "execution_count": null,
   "metadata": {},
   "outputs": [],
   "source": []
  }
 ],
 "metadata": {
  "kernelspec": {
   "display_name": "Python 3 (ipykernel)",
   "language": "python",
   "name": "python3"
  },
  "language_info": {
   "codemirror_mode": {
    "name": "ipython",
    "version": 3
   },
   "file_extension": ".py",
   "mimetype": "text/x-python",
   "name": "python",
   "nbconvert_exporter": "python",
   "pygments_lexer": "ipython3",
   "version": "3.11.4"
  }
 },
 "nbformat": 4,
 "nbformat_minor": 4
}
